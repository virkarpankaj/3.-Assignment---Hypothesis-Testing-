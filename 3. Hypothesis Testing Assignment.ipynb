{
 "cells": [
  {
   "cell_type": "code",
   "execution_count": 1,
   "id": "e3172d89",
   "metadata": {},
   "outputs": [],
   "source": [
    "from scipy import stats\n",
    "import statsmodels.api as smf"
   ]
  },
  {
   "cell_type": "code",
   "execution_count": 2,
   "id": "d386a344",
   "metadata": {},
   "outputs": [],
   "source": [
    "import pandas as pd\n",
    "import numpy as np"
   ]
  },
  {
   "cell_type": "code",
   "execution_count": 3,
   "id": "4201d14b",
   "metadata": {},
   "outputs": [],
   "source": [
    "import seaborn as sns\n",
    "import matplotlib.pyplot as plt\n",
    "%matplotlib inline"
   ]
  },
  {
   "cell_type": "code",
   "execution_count": 4,
   "id": "c02737c5",
   "metadata": {},
   "outputs": [],
   "source": [
    "import warnings\n",
    "\n",
    "warnings.filterwarnings('ignore')"
   ]
  },
  {
   "cell_type": "markdown",
   "id": "fb40dc94",
   "metadata": {},
   "source": [
    "### Q1.\n",
    "* A F&B manager wants to determine whether there is any significant difference in the diameter of the cutlet between two units. \n",
    "A randomly selected sample of cutlets was collected from both units and measured? Analyze the data and draw inferences at 5% significance level. Please state the assumptions and tests that you carried out to check validity of the assumptions."
   ]
  },
  {
   "cell_type": "code",
   "execution_count": null,
   "id": "075b88c8",
   "metadata": {},
   "outputs": [],
   "source": [
    "# H0 :muA - muB = 0       no diff in the diameter of the cutlet between two units\n",
    "# HA: muA - muB !=0       yes there is diff"
   ]
  },
  {
   "cell_type": "code",
   "execution_count": 5,
   "id": "3cc15fdf",
   "metadata": {},
   "outputs": [],
   "source": [
    "cutlets = pd.read_csv('Cutlets.csv')"
   ]
  },
  {
   "cell_type": "code",
   "execution_count": 6,
   "id": "e976e21c",
   "metadata": {},
   "outputs": [
    {
     "data": {
      "text/html": [
       "<div>\n",
       "<style scoped>\n",
       "    .dataframe tbody tr th:only-of-type {\n",
       "        vertical-align: middle;\n",
       "    }\n",
       "\n",
       "    .dataframe tbody tr th {\n",
       "        vertical-align: top;\n",
       "    }\n",
       "\n",
       "    .dataframe thead th {\n",
       "        text-align: right;\n",
       "    }\n",
       "</style>\n",
       "<table border=\"1\" class=\"dataframe\">\n",
       "  <thead>\n",
       "    <tr style=\"text-align: right;\">\n",
       "      <th></th>\n",
       "      <th>Unit A</th>\n",
       "      <th>Unit B</th>\n",
       "    </tr>\n",
       "  </thead>\n",
       "  <tbody>\n",
       "    <tr>\n",
       "      <th>0</th>\n",
       "      <td>6.8090</td>\n",
       "      <td>6.7703</td>\n",
       "    </tr>\n",
       "    <tr>\n",
       "      <th>1</th>\n",
       "      <td>6.4376</td>\n",
       "      <td>7.5093</td>\n",
       "    </tr>\n",
       "    <tr>\n",
       "      <th>2</th>\n",
       "      <td>6.9157</td>\n",
       "      <td>6.7300</td>\n",
       "    </tr>\n",
       "    <tr>\n",
       "      <th>3</th>\n",
       "      <td>7.3012</td>\n",
       "      <td>6.7878</td>\n",
       "    </tr>\n",
       "    <tr>\n",
       "      <th>4</th>\n",
       "      <td>7.4488</td>\n",
       "      <td>7.1522</td>\n",
       "    </tr>\n",
       "  </tbody>\n",
       "</table>\n",
       "</div>"
      ],
      "text/plain": [
       "   Unit A  Unit B\n",
       "0  6.8090  6.7703\n",
       "1  6.4376  7.5093\n",
       "2  6.9157  6.7300\n",
       "3  7.3012  6.7878\n",
       "4  7.4488  7.1522"
      ]
     },
     "execution_count": 6,
     "metadata": {},
     "output_type": "execute_result"
    }
   ],
   "source": [
    "cutlets.head()"
   ]
  },
  {
   "cell_type": "code",
   "execution_count": 7,
   "id": "78d3ccdf",
   "metadata": {},
   "outputs": [
    {
     "data": {
      "text/plain": [
       "Ttest_indResult(statistic=0.7228688704678063, pvalue=0.4722394724599501)"
      ]
     },
     "execution_count": 7,
     "metadata": {},
     "output_type": "execute_result"
    }
   ],
   "source": [
    "stats.ttest_ind(cutlets['Unit A'],cutlets['Unit B'],alternative='two-sided')"
   ]
  },
  {
   "cell_type": "code",
   "execution_count": null,
   "id": "ab99b2e6",
   "metadata": {},
   "outputs": [],
   "source": [
    "# p value is very high, so for 5 % significance level we can't reject the H0\n",
    "\n",
    "# so we have not enough evidence to say there is difference in the diameter of the cutlet between two units\n",
    "# based on this we say diameters are equal"
   ]
  },
  {
   "cell_type": "code",
   "execution_count": null,
   "id": "d6754586",
   "metadata": {},
   "outputs": [],
   "source": [
    "# visualization of distribution"
   ]
  },
  {
   "cell_type": "code",
   "execution_count": 8,
   "id": "2b03fbb9",
   "metadata": {},
   "outputs": [
    {
     "data": {
      "text/plain": [
       "<matplotlib.legend.Legend at 0x1d08e1b72e0>"
      ]
     },
     "execution_count": 8,
     "metadata": {},
     "output_type": "execute_result"
    },
    {
     "data": {
      "image/png": "[encoded data removed]",
      "text/plain": [
       "<Figure size 432x288 with 1 Axes>"
      ]
     },
     "metadata": {
      "needs_background": "light"
     },
     "output_type": "display_data"
    }
   ],
   "source": [
    "sns.distplot(cutlets['Unit A'],label='Unit A')\n",
    "sns.distplot(cutlets['Unit B'],label='Unit B')\n",
    "plt.xlabel('Diameter')\n",
    "plt.legend()"
   ]
  },
  {
   "cell_type": "code",
   "execution_count": null,
   "id": "3ca53361",
   "metadata": {},
   "outputs": [],
   "source": []
  },
  {
   "cell_type": "code",
   "execution_count": null,
   "id": "a776110c",
   "metadata": {},
   "outputs": [],
   "source": []
  },
  {
   "cell_type": "markdown",
   "id": "48863d8e",
   "metadata": {},
   "source": [
    "### Q2. ANOVA \n",
    "*A hospital wants to determine whether there is any difference in the average Turn Around Time (TAT) of reports of the laboratories on their preferred list. They collected a random sample and recorded TAT for reports of 4 laboratories. TAT is defined as sample collected to report dispatch. Analyze the data and determine whether there is any difference in average TAT among the different laboratories at 5% significance level."
   ]
  },
  {
   "cell_type": "code",
   "execution_count": null,
   "id": "b56ad0be",
   "metadata": {},
   "outputs": [],
   "source": [
    "# H0 : TAT lab1 = Lab2 = Lab3 = Lab4 \n",
    "# H1 : atleast 1 lab has diff TAT"
   ]
  },
  {
   "cell_type": "code",
   "execution_count": 9,
   "id": "72e360d5",
   "metadata": {},
   "outputs": [],
   "source": [
    "tat=pd.read_csv('LabTAT.csv')"
   ]
  },
  {
   "cell_type": "code",
   "execution_count": 10,
   "id": "a71e4b17",
   "metadata": {},
   "outputs": [
    {
     "data": {
      "text/html": [
       "<div>\n",
       "<style scoped>\n",
       "    .dataframe tbody tr th:only-of-type {\n",
       "        vertical-align: middle;\n",
       "    }\n",
       "\n",
       "    .dataframe tbody tr th {\n",
       "        vertical-align: top;\n",
       "    }\n",
       "\n",
       "    .dataframe thead th {\n",
       "        text-align: right;\n",
       "    }\n",
       "</style>\n",
       "<table border=\"1\" class=\"dataframe\">\n",
       "  <thead>\n",
       "    <tr style=\"text-align: right;\">\n",
       "      <th></th>\n",
       "      <th>Laboratory 1</th>\n",
       "      <th>Laboratory 2</th>\n",
       "      <th>Laboratory 3</th>\n",
       "      <th>Laboratory 4</th>\n",
       "    </tr>\n",
       "  </thead>\n",
       "  <tbody>\n",
       "    <tr>\n",
       "      <th>0</th>\n",
       "      <td>185.35</td>\n",
       "      <td>165.53</td>\n",
       "      <td>176.70</td>\n",
       "      <td>166.13</td>\n",
       "    </tr>\n",
       "    <tr>\n",
       "      <th>1</th>\n",
       "      <td>170.49</td>\n",
       "      <td>185.91</td>\n",
       "      <td>198.45</td>\n",
       "      <td>160.79</td>\n",
       "    </tr>\n",
       "    <tr>\n",
       "      <th>2</th>\n",
       "      <td>192.77</td>\n",
       "      <td>194.92</td>\n",
       "      <td>201.23</td>\n",
       "      <td>185.18</td>\n",
       "    </tr>\n",
       "    <tr>\n",
       "      <th>3</th>\n",
       "      <td>177.33</td>\n",
       "      <td>183.00</td>\n",
       "      <td>199.61</td>\n",
       "      <td>176.42</td>\n",
       "    </tr>\n",
       "    <tr>\n",
       "      <th>4</th>\n",
       "      <td>193.41</td>\n",
       "      <td>169.57</td>\n",
       "      <td>204.63</td>\n",
       "      <td>152.60</td>\n",
       "    </tr>\n",
       "  </tbody>\n",
       "</table>\n",
       "</div>"
      ],
      "text/plain": [
       "   Laboratory 1  Laboratory 2  Laboratory 3  Laboratory 4\n",
       "0        185.35        165.53        176.70        166.13\n",
       "1        170.49        185.91        198.45        160.79\n",
       "2        192.77        194.92        201.23        185.18\n",
       "3        177.33        183.00        199.61        176.42\n",
       "4        193.41        169.57        204.63        152.60"
      ]
     },
     "execution_count": 10,
     "metadata": {},
     "output_type": "execute_result"
    }
   ],
   "source": [
    "tat.head()"
   ]
  },
  {
   "cell_type": "code",
   "execution_count": 11,
   "id": "c7e8fc2b",
   "metadata": {},
   "outputs": [
    {
     "data": {
      "text/plain": [
       "F_onewayResult(statistic=118.70421654401437, pvalue=2.1156708949992414e-57)"
      ]
     },
     "execution_count": 11,
     "metadata": {},
     "output_type": "execute_result"
    }
   ],
   "source": [
    "stats.f_oneway(tat['Laboratory 1'],tat['Laboratory 2'],tat['Laboratory 3'],tat['Laboratory 4'])"
   ]
  },
  {
   "cell_type": "code",
   "execution_count": null,
   "id": "d2f7170c",
   "metadata": {},
   "outputs": [],
   "source": [
    "# p value is low means F value is very high i.e inter dist b/w grps is very high\n",
    "# reject the null hypothesis i.e. TAT is same across 4 lab - reject"
   ]
  },
  {
   "cell_type": "code",
   "execution_count": 12,
   "id": "ba29c577",
   "metadata": {},
   "outputs": [
    {
     "data": {
      "text/plain": [
       "<matplotlib.legend.Legend at 0x1d08e9fefa0>"
      ]
     },
     "execution_count": 12,
     "metadata": {},
     "output_type": "execute_result"
    },
    {
     "data": {
      "image/png": "[encoded data removed]",
      "text/plain": [
       "<Figure size 432x288 with 1 Axes>"
      ]
     },
     "metadata": {
      "needs_background": "light"
     },
     "output_type": "display_data"
    }
   ],
   "source": [
    "sns.distplot(tat['Laboratory 1'],label='Lab1')\n",
    "sns.distplot(tat['Laboratory 2'],label='Lab2')\n",
    "sns.distplot(tat['Laboratory 3'],label='Lab3')\n",
    "sns.distplot(tat['Laboratory 4'],label='Lab4')\n",
    "\n",
    "plt.xlabel('TAT')\n",
    "plt.legend()"
   ]
  },
  {
   "cell_type": "code",
   "execution_count": null,
   "id": "380dc88f",
   "metadata": {},
   "outputs": [],
   "source": []
  },
  {
   "cell_type": "code",
   "execution_count": null,
   "id": "8e8c81e3",
   "metadata": {},
   "outputs": [],
   "source": []
  },
  {
   "cell_type": "markdown",
   "id": "93f222b6",
   "metadata": {},
   "source": [
    "### Q3. Chi Squared Test\n",
    "\n",
    "*Sales of products in four different regions is tabulated for males and females. Find if male-female buyer ratios are similar across regions.\n",
    "         East   West   North     South\n",
    "Males     50    142     131       70\n",
    "Females  550    351     480       350"
   ]
  },
  {
   "cell_type": "code",
   "execution_count": null,
   "id": "e301409a",
   "metadata": {},
   "outputs": [],
   "source": [
    "# H0 : Males & Females are independent        \n",
    "# HA : Males & Females are dependent"
   ]
  },
  {
   "cell_type": "code",
   "execution_count": 13,
   "id": "88febb07",
   "metadata": {},
   "outputs": [],
   "source": [
    "from scipy.stats import chi2_contingency"
   ]
  },
  {
   "cell_type": "code",
   "execution_count": 14,
   "id": "0819af3a",
   "metadata": {},
   "outputs": [
    {
     "name": "stdout",
     "output_type": "stream",
     "text": [
      "p value is - 2.682172557281901e-17\n",
      "we reject Null Hypothesis as it is less than alpha - They are dependent\n"
     ]
    }
   ],
   "source": [
    "data= [[50,142,131,70],[550,351,480,350]]\n",
    "\n",
    "stats,p,dof,expected = chi2_contingency(data)\n",
    "\n",
    "print('p value is -', p)\n",
    "alpha = 0.05 # significance level\n",
    "if p<alpha:\n",
    "    print('we reject Null Hypothesis as it is less than alpha - They are dependent')\n",
    "else:\n",
    "    print('We accept Null Hypothesis as it is greater than alpha - - They are independent')"
   ]
  },
  {
   "cell_type": "code",
   "execution_count": 15,
   "id": "3a84aadd",
   "metadata": {},
   "outputs": [
    {
     "data": {
      "text/plain": [
       "80.27295426602495"
      ]
     },
     "execution_count": 15,
     "metadata": {},
     "output_type": "execute_result"
    }
   ],
   "source": [
    "stats"
   ]
  },
  {
   "cell_type": "code",
   "execution_count": 16,
   "id": "66bcc247",
   "metadata": {},
   "outputs": [
    {
     "data": {
      "text/plain": [
       "2.682172557281901e-17"
      ]
     },
     "execution_count": 16,
     "metadata": {},
     "output_type": "execute_result"
    }
   ],
   "source": [
    "p "
   ]
  },
  {
   "cell_type": "code",
   "execution_count": 17,
   "id": "63f67b4b",
   "metadata": {},
   "outputs": [
    {
     "data": {
      "text/plain": [
       "3"
      ]
     },
     "execution_count": 17,
     "metadata": {},
     "output_type": "execute_result"
    }
   ],
   "source": [
    "dof"
   ]
  },
  {
   "cell_type": "code",
   "execution_count": 18,
   "id": "2b18bc34",
   "metadata": {},
   "outputs": [
    {
     "data": {
      "text/plain": [
       "array([[111.01694915,  91.21892655, 113.05225989,  77.71186441],\n",
       "       [488.98305085, 401.78107345, 497.94774011, 342.28813559]])"
      ]
     },
     "execution_count": 18,
     "metadata": {},
     "output_type": "execute_result"
    }
   ],
   "source": [
    "expected"
   ]
  },
  {
   "cell_type": "code",
   "execution_count": null,
   "id": "337fc0bf",
   "metadata": {},
   "outputs": [],
   "source": []
  },
  {
   "cell_type": "code",
   "execution_count": null,
   "id": "c95e702b",
   "metadata": {},
   "outputs": [],
   "source": []
  },
  {
   "cell_type": "markdown",
   "id": "cb248fb1",
   "metadata": {},
   "source": [
    "### Q4 .\n",
    "* TeleCall uses 4 centers around the globe to process customer order forms. They audit a certain % of the customer order forms. Any error in order form renders it defective and has to be reworked before processing. The manager wants to check whether the defective % varies by centre. Please analyze the data at 5% significance level and help the manager draw appropriate inferences"
   ]
  },
  {
   "cell_type": "code",
   "execution_count": null,
   "id": "8a1fbf19",
   "metadata": {},
   "outputs": [],
   "source": [
    "# H0 : inDependent\n",
    "# H1 : Dependent  "
   ]
  },
  {
   "cell_type": "code",
   "execution_count": 19,
   "id": "454d4364",
   "metadata": {},
   "outputs": [],
   "source": [
    "order = pd.read_csv('Costomer Order Form.csv')"
   ]
  },
  {
   "cell_type": "code",
   "execution_count": 20,
   "id": "969549e8",
   "metadata": {},
   "outputs": [
    {
     "data": {
      "text/html": [
       "<div>\n",
       "<style scoped>\n",
       "    .dataframe tbody tr th:only-of-type {\n",
       "        vertical-align: middle;\n",
       "    }\n",
       "\n",
       "    .dataframe tbody tr th {\n",
       "        vertical-align: top;\n",
       "    }\n",
       "\n",
       "    .dataframe thead th {\n",
       "        text-align: right;\n",
       "    }\n",
       "</style>\n",
       "<table border=\"1\" class=\"dataframe\">\n",
       "  <thead>\n",
       "    <tr style=\"text-align: right;\">\n",
       "      <th></th>\n",
       "      <th>Phillippines</th>\n",
       "      <th>Indonesia</th>\n",
       "      <th>Malta</th>\n",
       "      <th>India</th>\n",
       "    </tr>\n",
       "  </thead>\n",
       "  <tbody>\n",
       "    <tr>\n",
       "      <th>0</th>\n",
       "      <td>Error Free</td>\n",
       "      <td>Error Free</td>\n",
       "      <td>Defective</td>\n",
       "      <td>Error Free</td>\n",
       "    </tr>\n",
       "    <tr>\n",
       "      <th>1</th>\n",
       "      <td>Error Free</td>\n",
       "      <td>Error Free</td>\n",
       "      <td>Error Free</td>\n",
       "      <td>Defective</td>\n",
       "    </tr>\n",
       "    <tr>\n",
       "      <th>2</th>\n",
       "      <td>Error Free</td>\n",
       "      <td>Defective</td>\n",
       "      <td>Defective</td>\n",
       "      <td>Error Free</td>\n",
       "    </tr>\n",
       "    <tr>\n",
       "      <th>3</th>\n",
       "      <td>Error Free</td>\n",
       "      <td>Error Free</td>\n",
       "      <td>Error Free</td>\n",
       "      <td>Error Free</td>\n",
       "    </tr>\n",
       "    <tr>\n",
       "      <th>4</th>\n",
       "      <td>Error Free</td>\n",
       "      <td>Error Free</td>\n",
       "      <td>Defective</td>\n",
       "      <td>Error Free</td>\n",
       "    </tr>\n",
       "  </tbody>\n",
       "</table>\n",
       "</div>"
      ],
      "text/plain": [
       "  Phillippines   Indonesia       Malta       India\n",
       "0   Error Free  Error Free   Defective  Error Free\n",
       "1   Error Free  Error Free  Error Free   Defective\n",
       "2   Error Free   Defective   Defective  Error Free\n",
       "3   Error Free  Error Free  Error Free  Error Free\n",
       "4   Error Free  Error Free   Defective  Error Free"
      ]
     },
     "execution_count": 20,
     "metadata": {},
     "output_type": "execute_result"
    }
   ],
   "source": [
    "order.head()"
   ]
  },
  {
   "cell_type": "code",
   "execution_count": 21,
   "id": "2bf5fab7",
   "metadata": {},
   "outputs": [
    {
     "data": {
      "text/plain": [
       "Error Free    271\n",
       "Defective      29\n",
       "Name: Phillippines, dtype: int64"
      ]
     },
     "execution_count": 21,
     "metadata": {},
     "output_type": "execute_result"
    }
   ],
   "source": [
    "order['Phillippines'].value_counts()"
   ]
  },
  {
   "cell_type": "code",
   "execution_count": 22,
   "id": "0c92344b",
   "metadata": {},
   "outputs": [],
   "source": [
    "error_free = []\n",
    "defective = []\n",
    "\n",
    "for i in range(4):\n",
    "    e=0\n",
    "    d=0\n",
    "    for j in order.iloc[:,i]:\n",
    "        if j == 'Error Free':\n",
    "            e+=1\n",
    "        else:\n",
    "            d+=1\n",
    "    error_free.append(e)\n",
    "    defective.append(d)"
   ]
  },
  {
   "cell_type": "code",
   "execution_count": 23,
   "id": "a2829e6a",
   "metadata": {},
   "outputs": [
    {
     "data": {
      "text/plain": [
       "[271, 267, 269, 280]"
      ]
     },
     "execution_count": 23,
     "metadata": {},
     "output_type": "execute_result"
    }
   ],
   "source": [
    "error_free"
   ]
  },
  {
   "cell_type": "code",
   "execution_count": 24,
   "id": "7005dcce",
   "metadata": {},
   "outputs": [
    {
     "data": {
      "text/plain": [
       "[29, 33, 31, 20]"
      ]
     },
     "execution_count": 24,
     "metadata": {},
     "output_type": "execute_result"
    }
   ],
   "source": [
    "defective"
   ]
  },
  {
   "cell_type": "code",
   "execution_count": 25,
   "id": "420daf22",
   "metadata": {},
   "outputs": [
    {
     "data": {
      "text/plain": [
       "array([[271, 267, 269, 280],\n",
       "       [ 29,  33,  31,  20]])"
      ]
     },
     "execution_count": 25,
     "metadata": {},
     "output_type": "execute_result"
    }
   ],
   "source": [
    "tele_call = np.array([error_free,defective])\n",
    "tele_call"
   ]
  },
  {
   "cell_type": "code",
   "execution_count": 26,
   "id": "fcd5ea4c",
   "metadata": {},
   "outputs": [
    {
     "name": "stdout",
     "output_type": "stream",
     "text": [
      "p value is - 0.2771020991233135\n",
      "We accept Null Hypothesis as it is greater than alpha - - They are independent\n"
     ]
    }
   ],
   "source": [
    "stats,p,dof,expected = chi2_contingency(tele_call)\n",
    "\n",
    "print('p value is -', p)\n",
    "alpha = 0.05 # significance level\n",
    "if p<alpha:\n",
    "    print('we reject Null Hypothesis as it is less than alpha - They are dependent')\n",
    "else:\n",
    "    print('We accept Null Hypothesis as it is greater than alpha - - They are independent')"
   ]
  },
  {
   "cell_type": "code",
   "execution_count": 27,
   "id": "e70e84ee",
   "metadata": {
    "scrolled": true
   },
   "outputs": [
    {
     "name": "stdout",
     "output_type": "stream",
     "text": [
      "Stats -  3.858960685820355\n",
      "p value -  0.2771020991233135\n",
      "dof are -  3\n",
      "expected array -  [[271.75 271.75 271.75 271.75]\n",
      " [ 28.25  28.25  28.25  28.25]]\n"
     ]
    }
   ],
   "source": [
    "print('Stats - ',stats)\n",
    "print('p value - ',p)\n",
    "print('dof are - ',dof)\n",
    "print('expected array - ',expected)"
   ]
  },
  {
   "cell_type": "code",
   "execution_count": null,
   "id": "ef18f6eb",
   "metadata": {},
   "outputs": [],
   "source": []
  }
 ],
 "metadata": {
  "kernelspec": {
   "display_name": "Python 3",
   "language": "python",
   "name": "python3"
  },
  "language_info": {
   "codemirror_mode": {
    "name": "ipython",
    "version": 3
   },
   "file_extension": ".py",
   "mimetype": "text/x-python",
   "name": "python",
   "nbconvert_exporter": "python",
   "pygments_lexer": "ipython3",
   "version": "3.8.8"
  },
  "varInspector": {
   "cols": {
    "lenName": 16,
    "lenType": 16,
    "lenVar": 40
   },
   "kernels_config": {
    "python": {
     "delete_cmd_postfix": "",
     "delete_cmd_prefix": "del ",
     "library": "var_list.py",
     "varRefreshCmd": "print(var_dic_list())"
    },
    "r": {
     "delete_cmd_postfix": ") ",
     "delete_cmd_prefix": "rm(",
     "library": "var_list.r",
     "varRefreshCmd": "cat(var_dic_list()) "
    }
   },
   "types_to_exclude": [
    "module",
    "function",
    "builtin_function_or_method",
    "instance",
    "_Feature"
   ],
   "window_display": false
  }
 },
 "nbformat": 4,
 "nbformat_minor": 5
}
